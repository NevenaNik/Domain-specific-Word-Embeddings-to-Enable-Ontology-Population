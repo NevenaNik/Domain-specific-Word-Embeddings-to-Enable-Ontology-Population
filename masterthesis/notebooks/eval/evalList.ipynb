{
 "metadata": {
  "language_info": {
   "codemirror_mode": {
    "name": "ipython",
    "version": 3
   },
   "file_extension": ".py",
   "mimetype": "text/x-python",
   "name": "python",
   "nbconvert_exporter": "python",
   "pygments_lexer": "ipython3",
   "version": "3.8.5-final"
  },
  "orig_nbformat": 2,
  "kernelspec": {
   "name": "python38564bitvenveaefb649f0a843798b4e750392f4e826",
   "display_name": "Python 3.8.5 64-bit ('venv')",
   "language": "python"
  }
 },
 "nbformat": 4,
 "nbformat_minor": 2,
 "cells": [
  {
   "cell_type": "code",
   "execution_count": 1,
   "metadata": {},
   "outputs": [],
   "source": [
    "import glob\n",
    "import json\n",
    "import pandas as pd\n",
    "from gensim.models import Word2Vec"
   ]
  },
  {
   "source": [
    "### Functions"
   ],
   "cell_type": "markdown",
   "metadata": {}
  },
  {
   "cell_type": "code",
   "execution_count": 2,
   "metadata": {},
   "outputs": [],
   "source": [
    "def evalList(dictionary):\n",
    "    terms = []\n",
    "\n",
    "    focus_term = list(dictionary.keys())[0]\n",
    "    dictionary = dictionary[focus_term]\n",
    "\n",
    "    for term in dictionary.keys():\n",
    "        terms.append(term)\n",
    "\n",
    "    return terms"
   ]
  },
  {
   "source": [
    "### List"
   ],
   "cell_type": "markdown",
   "metadata": {}
  },
  {
   "cell_type": "code",
   "execution_count": 5,
   "metadata": {},
   "outputs": [],
   "source": [
    "path_evalIntrinsic = \"/home/hiwi/Dokumente/masterthesis/data/evaluation/eval_approach_1_key.json\"\n",
    "path_expert = '/home/hiwi/Dokumente/masterthesis/data/evaluation/expert/'\n",
    "\n",
    "# Load vocabulary list\n",
    "intrinsic_eval = json.loads(open(path_evalIntrinsic).read())\n",
    "intrinsic_eval = intrinsic_eval[\"eval_list\"]\n",
    "\n",
    "# Expert voting\n",
    "expert = {}\n",
    "\n",
    "for key in intrinsic_eval.keys():\n",
    "    filename = intrinsic_eval[key]\n",
    "    terms = json.loads(open(path_expert+filename).read())\n",
    "    expert[key] = evalList(terms)"
   ]
  },
  {
   "cell_type": "code",
   "execution_count": 12,
   "metadata": {},
   "outputs": [],
   "source": [
    "path_evalExtrinsic = '/home/hiwi/Dokumente/masterthesis/data/terminology/eval_extrinsic.json'\n",
    "# Load vocabulary list\n",
    "extrinsic_eval = json.loads(open(path_evalExtrinsic).read())\n",
    "extrinsic_eval = extrinsic_eval[\"eval_list\"]\n"
   ]
  },
  {
   "cell_type": "code",
   "execution_count": 6,
   "metadata": {},
   "outputs": [],
   "source": [
    "path_trained = '/home/hiwi/Dokumente/masterthesis/data/models/phase5/'\n",
    "#path_trained = '/home/hiwi/Dokumente/masterthesis/archieve/ma_data/models/'\n",
    "fileNames = glob.glob(path_trained+\"03sentence*.bin\")"
   ]
  },
  {
   "cell_type": "code",
   "execution_count": 7,
   "metadata": {},
   "outputs": [
    {
     "output_type": "execute_result",
     "data": {
      "text/plain": [
       "26"
      ]
     },
     "metadata": {},
     "execution_count": 7
    }
   ],
   "source": [
    "len(fileNames)"
   ]
  },
  {
   "cell_type": "code",
   "execution_count": 8,
   "metadata": {},
   "outputs": [
    {
     "output_type": "execute_result",
     "data": {
      "text/plain": [
       "26"
      ]
     },
     "metadata": {},
     "execution_count": 8
    }
   ],
   "source": [
    "models = []\n",
    "for i in range(1, len(fileNames)+1):\n",
    "    name = \"model_\" + str(i)\n",
    "    models.append(name)\n",
    "len(models)"
   ]
  },
  {
   "cell_type": "code",
   "execution_count": 9,
   "metadata": {},
   "outputs": [],
   "source": [
    "for i in range(0, len(fileNames)):\n",
    "    models[i] = Word2Vec.load(fileNames[i])"
   ]
  },
  {
   "cell_type": "code",
   "execution_count": 10,
   "metadata": {},
   "outputs": [
    {
     "output_type": "stream",
     "name": "stdout",
     "text": [
      "751\n"
     ]
    }
   ],
   "source": [
    "evalPairs = []\n",
    "\n",
    "for key in expert.keys():\n",
    "    for term in expert[key]:\n",
    "        try:\n",
    "            for model in models:\n",
    "                score = model.wv.similarity(key, term)\n",
    "            if [key, term] not in evalPairs:\n",
    "                evalPairs.append([key, term])\n",
    "        except:\n",
    "            pass    \n",
    "\n",
    "print(len(evalPairs))"
   ]
  },
  {
   "cell_type": "code",
   "execution_count": 28,
   "metadata": {},
   "outputs": [
    {
     "output_type": "stream",
     "name": "stdout",
     "text": [
      "48\n"
     ]
    }
   ],
   "source": [
    "evalPairs = []\n",
    "\n",
    "for term in extrinsic_eval:\n",
    "    cond = []\n",
    "    for i in range(0,len(models)):\n",
    "        model = models[i]\n",
    "        test = (term in model.wv.vocab)\n",
    "        cond.append(term in model.wv.vocab)\n",
    "    if (cond[0] & cond[1] & cond[2]):\n",
    "        evalPairs.append(term)\n",
    "    \n",
    "print(len(evalPairs))"
   ]
  },
  {
   "cell_type": "code",
   "execution_count": 11,
   "metadata": {},
   "outputs": [],
   "source": [
    "pathResults = \"/home/hiwi/Dokumente/masterthesis/data/evaluation/eval_approach_1_phase5.csv\"\n",
    "\n",
    "f = open(pathResults, \"a\")\n",
    "for pair in evalPairs:\n",
    "    newLine = \";\".join(pair)\n",
    "    f.write(newLine)\n",
    "    f.write(\"\\n\")\n",
    "\n",
    "f.close()"
   ]
  },
  {
   "source": [
    "### List of unique terms"
   ],
   "cell_type": "markdown",
   "metadata": {}
  },
  {
   "cell_type": "code",
   "execution_count": 35,
   "metadata": {},
   "outputs": [
    {
     "output_type": "execute_result",
     "data": {
      "text/plain": [
       "410"
      ]
     },
     "metadata": {},
     "execution_count": 35
    }
   ],
   "source": [
    "uniqueTerms = []\n",
    "\n",
    "for pair in evalPairs:\n",
    "    if pair[0] not in uniqueTerms:\n",
    "        uniqueTerms.append(pair[0])\n",
    "    if pair[1] not in uniqueTerms:\n",
    "        uniqueTerms.append(pair[1])\n",
    "len(uniqueTerms)"
   ]
  },
  {
   "cell_type": "code",
   "execution_count": 37,
   "metadata": {},
   "outputs": [],
   "source": [
    "pathTerms = \"/home/hiwi/Dokumente/masterthesis/data/terminology/eval_intrinsic_part3_2uniqueTerms.csv\"\n",
    "\n",
    "f = open(pathTerms, \"a\")\n",
    "for term in uniqueTerms:\n",
    "    f.write(term)\n",
    "    f.write(\"\\n\")\n",
    "\n",
    "f.close()"
   ]
  },
  {
   "source": [
    "### Test file"
   ],
   "cell_type": "markdown",
   "metadata": {}
  },
  {
   "cell_type": "code",
   "execution_count": 14,
   "metadata": {},
   "outputs": [],
   "source": [
    "test = pd.read_csv(pathResults, sep=\";\", names=[\"key\", \"term\"])"
   ]
  },
  {
   "cell_type": "code",
   "execution_count": 18,
   "metadata": {},
   "outputs": [],
   "source": [
    "pairs = []\n",
    "for index, row in test.iterrows():\n",
    "    pair = [row[\"key\"], row[\"term\"]]\n",
    "    pairs.append(pair)"
   ]
  },
  {
   "cell_type": "code",
   "execution_count": null,
   "metadata": {},
   "outputs": [],
   "source": []
  }
 ]
}