{
 "metadata": {
  "language_info": {
   "codemirror_mode": {
    "name": "ipython",
    "version": 3
   },
   "file_extension": ".py",
   "mimetype": "text/x-python",
   "name": "python",
   "nbconvert_exporter": "python",
   "pygments_lexer": "ipython3",
   "version": "3.8.5-final"
  },
  "orig_nbformat": 2,
  "kernelspec": {
   "name": "python38564bitvenveaefb649f0a843798b4e750392f4e826",
   "display_name": "Python 3.8.5 64-bit ('venv')"
  }
 },
 "nbformat": 4,
 "nbformat_minor": 2,
 "cells": [
  {
   "cell_type": "code",
   "execution_count": 6,
   "metadata": {},
   "outputs": [
    {
     "output_type": "display_data",
     "data": {
      "text/html": "\n    <div class=\"bk-root\">\n        <a href=\"https://bokeh.org\" target=\"_blank\" class=\"bk-logo bk-logo-small bk-logo-notebook\"></a>\n        <span id=\"1122\">Loading BokehJS ...</span>\n    </div>"
     },
     "metadata": {}
    },
    {
     "output_type": "display_data",
     "data": {
      "application/javascript": "\n(function(root) {\n  function now() {\n    return new Date();\n  }\n\n  var force = true;\n\n  if (typeof root._bokeh_onload_callbacks === \"undefined\" || force === true) {\n    root._bokeh_onload_callbacks = [];\n    root._bokeh_is_loading = undefined;\n  }\n\n  var JS_MIME_TYPE = 'application/javascript';\n  var HTML_MIME_TYPE = 'text/html';\n  var EXEC_MIME_TYPE = 'application/vnd.bokehjs_exec.v0+json';\n  var CLASS_NAME = 'output_bokeh rendered_html';\n\n  /**\n   * Render data to the DOM node\n   */\n  function render(props, node) {\n    var script = document.createElement(\"script\");\n    node.appendChild(script);\n  }\n\n  /**\n   * Handle when an output is cleared or removed\n   */\n  function handleClearOutput(event, handle) {\n    var cell = handle.cell;\n\n    var id = cell.output_area._bokeh_element_id;\n    var server_id = cell.output_area._bokeh_server_id;\n    // Clean up Bokeh references\n    if (id != null && id in Bokeh.index) {\n      Bokeh.index[id].model.document.clear();\n      delete Bokeh.index[id];\n    }\n\n    if (server_id !== undefined) {\n      // Clean up Bokeh references\n      var cmd = \"from bokeh.io.state import curstate; print(curstate().uuid_to_server['\" + server_id + \"'].get_sessions()[0].document.roots[0]._id)\";\n      cell.notebook.kernel.execute(cmd, {\n        iopub: {\n          output: function(msg) {\n            var id = msg.content.text.trim();\n            if (id in Bokeh.index) {\n              Bokeh.index[id].model.document.clear();\n              delete Bokeh.index[id];\n            }\n          }\n        }\n      });\n      // Destroy server and session\n      var cmd = \"import bokeh.io.notebook as ion; ion.destroy_server('\" + server_id + \"')\";\n      cell.notebook.kernel.execute(cmd);\n    }\n  }\n\n  /**\n   * Handle when a new output is added\n   */\n  function handleAddOutput(event, handle) {\n    var output_area = handle.output_area;\n    var output = handle.output;\n\n    // limit handleAddOutput to display_data with EXEC_MIME_TYPE content only\n    if ((output.output_type != \"display_data\") || (!output.data.hasOwnProperty(EXEC_MIME_TYPE))) {\n      return\n    }\n\n    var toinsert = output_area.element.find(\".\" + CLASS_NAME.split(' ')[0]);\n\n    if (output.metadata[EXEC_MIME_TYPE][\"id\"] !== undefined) {\n      toinsert[toinsert.length - 1].firstChild.textContent = output.data[JS_MIME_TYPE];\n      // store reference to embed id on output_area\n      output_area._bokeh_element_id = output.metadata[EXEC_MIME_TYPE][\"id\"];\n    }\n    if (output.metadata[EXEC_MIME_TYPE][\"server_id\"] !== undefined) {\n      var bk_div = document.createElement(\"div\");\n      bk_div.innerHTML = output.data[HTML_MIME_TYPE];\n      var script_attrs = bk_div.children[0].attributes;\n      for (var i = 0; i < script_attrs.length; i++) {\n        toinsert[toinsert.length - 1].firstChild.setAttribute(script_attrs[i].name, script_attrs[i].value);\n        toinsert[toinsert.length - 1].firstChild.textContent = bk_div.children[0].textContent\n      }\n      // store reference to server id on output_area\n      output_area._bokeh_server_id = output.metadata[EXEC_MIME_TYPE][\"server_id\"];\n    }\n  }\n\n  function register_renderer(events, OutputArea) {\n\n    function append_mime(data, metadata, element) {\n      // create a DOM node to render to\n      var toinsert = this.create_output_subarea(\n        metadata,\n        CLASS_NAME,\n        EXEC_MIME_TYPE\n      );\n      this.keyboard_manager.register_events(toinsert);\n      // Render to node\n      var props = {data: data, metadata: metadata[EXEC_MIME_TYPE]};\n      render(props, toinsert[toinsert.length - 1]);\n      element.append(toinsert);\n      return toinsert\n    }\n\n    /* Handle when an output is cleared or removed */\n    events.on('clear_output.CodeCell', handleClearOutput);\n    events.on('delete.Cell', handleClearOutput);\n\n    /* Handle when a new output is added */\n    events.on('output_added.OutputArea', handleAddOutput);\n\n    /**\n     * Register the mime type and append_mime function with output_area\n     */\n    OutputArea.prototype.register_mime_type(EXEC_MIME_TYPE, append_mime, {\n      /* Is output safe? */\n      safe: true,\n      /* Index of renderer in `output_area.display_order` */\n      index: 0\n    });\n  }\n\n  // register the mime type if in Jupyter Notebook environment and previously unregistered\n  if (root.Jupyter !== undefined) {\n    var events = require('base/js/events');\n    var OutputArea = require('notebook/js/outputarea').OutputArea;\n\n    if (OutputArea.prototype.mime_types().indexOf(EXEC_MIME_TYPE) == -1) {\n      register_renderer(events, OutputArea);\n    }\n  }\n\n  \n  if (typeof (root._bokeh_timeout) === \"undefined\" || force === true) {\n    root._bokeh_timeout = Date.now() + 5000;\n    root._bokeh_failed_load = false;\n  }\n\n  var NB_LOAD_WARNING = {'data': {'text/html':\n     \"<div style='background-color: #fdd'>\\n\"+\n     \"<p>\\n\"+\n     \"BokehJS does not appear to have successfully loaded. If loading BokehJS from CDN, this \\n\"+\n     \"may be due to a slow or bad network connection. Possible fixes:\\n\"+\n     \"</p>\\n\"+\n     \"<ul>\\n\"+\n     \"<li>re-rerun `output_notebook()` to attempt to load from CDN again, or</li>\\n\"+\n     \"<li>use INLINE resources instead, as so:</li>\\n\"+\n     \"</ul>\\n\"+\n     \"<code>\\n\"+\n     \"from bokeh.resources import INLINE\\n\"+\n     \"output_notebook(resources=INLINE)\\n\"+\n     \"</code>\\n\"+\n     \"</div>\"}};\n\n  function display_loaded() {\n    var el = document.getElementById(\"1122\");\n    if (el != null) {\n      el.textContent = \"BokehJS is loading...\";\n    }\n    if (root.Bokeh !== undefined) {\n      if (el != null) {\n        el.textContent = \"BokehJS \" + root.Bokeh.version + \" successfully loaded.\";\n      }\n    } else if (Date.now() < root._bokeh_timeout) {\n      setTimeout(display_loaded, 100)\n    }\n  }\n\n\n  function run_callbacks() {\n    try {\n      root._bokeh_onload_callbacks.forEach(function(callback) {\n        if (callback != null)\n          callback();\n      });\n    } finally {\n      delete root._bokeh_onload_callbacks\n    }\n    console.debug(\"Bokeh: all callbacks have finished\");\n  }\n\n  function load_libs(css_urls, js_urls, callback) {\n    if (css_urls == null) css_urls = [];\n    if (js_urls == null) js_urls = [];\n\n    root._bokeh_onload_callbacks.push(callback);\n    if (root._bokeh_is_loading > 0) {\n      console.debug(\"Bokeh: BokehJS is being loaded, scheduling callback at\", now());\n      return null;\n    }\n    if (js_urls == null || js_urls.length === 0) {\n      run_callbacks();\n      return null;\n    }\n    console.debug(\"Bokeh: BokehJS not loaded, scheduling load and callback at\", now());\n    root._bokeh_is_loading = css_urls.length + js_urls.length;\n\n    function on_load() {\n      root._bokeh_is_loading--;\n      if (root._bokeh_is_loading === 0) {\n        console.debug(\"Bokeh: all BokehJS libraries/stylesheets loaded\");\n        run_callbacks()\n      }\n    }\n\n    function on_error() {\n      console.error(\"failed to load \" + url);\n    }\n\n    for (var i = 0; i < css_urls.length; i++) {\n      var url = css_urls[i];\n      const element = document.createElement(\"link\");\n      element.onload = on_load;\n      element.onerror = on_error;\n      element.rel = \"stylesheet\";\n      element.type = \"text/css\";\n      element.href = url;\n      console.debug(\"Bokeh: injecting link tag for BokehJS stylesheet: \", url);\n      document.body.appendChild(element);\n    }\n\n    const hashes = {\"https://cdn.bokeh.org/bokeh/release/bokeh-2.2.3.min.js\": \"T2yuo9Oe71Cz/I4X9Ac5+gpEa5a8PpJCDlqKYO0CfAuEszu1JrXLl8YugMqYe3sM\", \"https://cdn.bokeh.org/bokeh/release/bokeh-widgets-2.2.3.min.js\": \"98GDGJ0kOMCUMUePhksaQ/GYgB3+NH9h996V88sh3aOiUNX3N+fLXAtry6xctSZ6\", \"https://cdn.bokeh.org/bokeh/release/bokeh-tables-2.2.3.min.js\": \"89bArO+nlbP3sgakeHjCo1JYxYR5wufVgA3IbUvDY+K7w4zyxJqssu7wVnfeKCq8\"};\n\n    for (var i = 0; i < js_urls.length; i++) {\n      var url = js_urls[i];\n      var element = document.createElement('script');\n      element.onload = on_load;\n      element.onerror = on_error;\n      element.async = false;\n      element.src = url;\n      if (url in hashes) {\n        element.crossOrigin = \"anonymous\";\n        element.integrity = \"sha384-\" + hashes[url];\n      }\n      console.debug(\"Bokeh: injecting script tag for BokehJS library: \", url);\n      document.head.appendChild(element);\n    }\n  };\n\n  function inject_raw_css(css) {\n    const element = document.createElement(\"style\");\n    element.appendChild(document.createTextNode(css));\n    document.body.appendChild(element);\n  }\n\n  \n  var js_urls = [\"https://cdn.bokeh.org/bokeh/release/bokeh-2.2.3.min.js\", \"https://cdn.bokeh.org/bokeh/release/bokeh-widgets-2.2.3.min.js\", \"https://cdn.bokeh.org/bokeh/release/bokeh-tables-2.2.3.min.js\"];\n  var css_urls = [];\n  \n\n  var inline_js = [\n    function(Bokeh) {\n      Bokeh.set_log_level(\"info\");\n    },\n    function(Bokeh) {\n    \n    \n    }\n  ];\n\n  function run_inline_js() {\n    \n    if (root.Bokeh !== undefined || force === true) {\n      \n    for (var i = 0; i < inline_js.length; i++) {\n      inline_js[i].call(root, root.Bokeh);\n    }\n    if (force === true) {\n        display_loaded();\n      }} else if (Date.now() < root._bokeh_timeout) {\n      setTimeout(run_inline_js, 100);\n    } else if (!root._bokeh_failed_load) {\n      console.log(\"Bokeh: BokehJS failed to load within specified timeout.\");\n      root._bokeh_failed_load = true;\n    } else if (force !== true) {\n      var cell = $(document.getElementById(\"1122\")).parents('.cell').data().cell;\n      cell.output_area.append_execute_result(NB_LOAD_WARNING)\n    }\n\n  }\n\n  if (root._bokeh_is_loading === 0) {\n    console.debug(\"Bokeh: BokehJS loaded, going straight to plotting\");\n    run_inline_js();\n  } else {\n    load_libs(css_urls, js_urls, function() {\n      console.debug(\"Bokeh: BokehJS plotting callback run at\", now());\n      run_inline_js();\n    });\n  }\n}(window));",
      "application/vnd.bokehjs_load.v0+json": "\n(function(root) {\n  function now() {\n    return new Date();\n  }\n\n  var force = true;\n\n  if (typeof root._bokeh_onload_callbacks === \"undefined\" || force === true) {\n    root._bokeh_onload_callbacks = [];\n    root._bokeh_is_loading = undefined;\n  }\n\n  \n\n  \n  if (typeof (root._bokeh_timeout) === \"undefined\" || force === true) {\n    root._bokeh_timeout = Date.now() + 5000;\n    root._bokeh_failed_load = false;\n  }\n\n  var NB_LOAD_WARNING = {'data': {'text/html':\n     \"<div style='background-color: #fdd'>\\n\"+\n     \"<p>\\n\"+\n     \"BokehJS does not appear to have successfully loaded. If loading BokehJS from CDN, this \\n\"+\n     \"may be due to a slow or bad network connection. Possible fixes:\\n\"+\n     \"</p>\\n\"+\n     \"<ul>\\n\"+\n     \"<li>re-rerun `output_notebook()` to attempt to load from CDN again, or</li>\\n\"+\n     \"<li>use INLINE resources instead, as so:</li>\\n\"+\n     \"</ul>\\n\"+\n     \"<code>\\n\"+\n     \"from bokeh.resources import INLINE\\n\"+\n     \"output_notebook(resources=INLINE)\\n\"+\n     \"</code>\\n\"+\n     \"</div>\"}};\n\n  function display_loaded() {\n    var el = document.getElementById(\"1122\");\n    if (el != null) {\n      el.textContent = \"BokehJS is loading...\";\n    }\n    if (root.Bokeh !== undefined) {\n      if (el != null) {\n        el.textContent = \"BokehJS \" + root.Bokeh.version + \" successfully loaded.\";\n      }\n    } else if (Date.now() < root._bokeh_timeout) {\n      setTimeout(display_loaded, 100)\n    }\n  }\n\n\n  function run_callbacks() {\n    try {\n      root._bokeh_onload_callbacks.forEach(function(callback) {\n        if (callback != null)\n          callback();\n      });\n    } finally {\n      delete root._bokeh_onload_callbacks\n    }\n    console.debug(\"Bokeh: all callbacks have finished\");\n  }\n\n  function load_libs(css_urls, js_urls, callback) {\n    if (css_urls == null) css_urls = [];\n    if (js_urls == null) js_urls = [];\n\n    root._bokeh_onload_callbacks.push(callback);\n    if (root._bokeh_is_loading > 0) {\n      console.debug(\"Bokeh: BokehJS is being loaded, scheduling callback at\", now());\n      return null;\n    }\n    if (js_urls == null || js_urls.length === 0) {\n      run_callbacks();\n      return null;\n    }\n    console.debug(\"Bokeh: BokehJS not loaded, scheduling load and callback at\", now());\n    root._bokeh_is_loading = css_urls.length + js_urls.length;\n\n    function on_load() {\n      root._bokeh_is_loading--;\n      if (root._bokeh_is_loading === 0) {\n        console.debug(\"Bokeh: all BokehJS libraries/stylesheets loaded\");\n        run_callbacks()\n      }\n    }\n\n    function on_error() {\n      console.error(\"failed to load \" + url);\n    }\n\n    for (var i = 0; i < css_urls.length; i++) {\n      var url = css_urls[i];\n      const element = document.createElement(\"link\");\n      element.onload = on_load;\n      element.onerror = on_error;\n      element.rel = \"stylesheet\";\n      element.type = \"text/css\";\n      element.href = url;\n      console.debug(\"Bokeh: injecting link tag for BokehJS stylesheet: \", url);\n      document.body.appendChild(element);\n    }\n\n    const hashes = {\"https://cdn.bokeh.org/bokeh/release/bokeh-2.2.3.min.js\": \"T2yuo9Oe71Cz/I4X9Ac5+gpEa5a8PpJCDlqKYO0CfAuEszu1JrXLl8YugMqYe3sM\", \"https://cdn.bokeh.org/bokeh/release/bokeh-widgets-2.2.3.min.js\": \"98GDGJ0kOMCUMUePhksaQ/GYgB3+NH9h996V88sh3aOiUNX3N+fLXAtry6xctSZ6\", \"https://cdn.bokeh.org/bokeh/release/bokeh-tables-2.2.3.min.js\": \"89bArO+nlbP3sgakeHjCo1JYxYR5wufVgA3IbUvDY+K7w4zyxJqssu7wVnfeKCq8\"};\n\n    for (var i = 0; i < js_urls.length; i++) {\n      var url = js_urls[i];\n      var element = document.createElement('script');\n      element.onload = on_load;\n      element.onerror = on_error;\n      element.async = false;\n      element.src = url;\n      if (url in hashes) {\n        element.crossOrigin = \"anonymous\";\n        element.integrity = \"sha384-\" + hashes[url];\n      }\n      console.debug(\"Bokeh: injecting script tag for BokehJS library: \", url);\n      document.head.appendChild(element);\n    }\n  };\n\n  function inject_raw_css(css) {\n    const element = document.createElement(\"style\");\n    element.appendChild(document.createTextNode(css));\n    document.body.appendChild(element);\n  }\n\n  \n  var js_urls = [\"https://cdn.bokeh.org/bokeh/release/bokeh-2.2.3.min.js\", \"https://cdn.bokeh.org/bokeh/release/bokeh-widgets-2.2.3.min.js\", \"https://cdn.bokeh.org/bokeh/release/bokeh-tables-2.2.3.min.js\"];\n  var css_urls = [];\n  \n\n  var inline_js = [\n    function(Bokeh) {\n      Bokeh.set_log_level(\"info\");\n    },\n    function(Bokeh) {\n    \n    \n    }\n  ];\n\n  function run_inline_js() {\n    \n    if (root.Bokeh !== undefined || force === true) {\n      \n    for (var i = 0; i < inline_js.length; i++) {\n      inline_js[i].call(root, root.Bokeh);\n    }\n    if (force === true) {\n        display_loaded();\n      }} else if (Date.now() < root._bokeh_timeout) {\n      setTimeout(run_inline_js, 100);\n    } else if (!root._bokeh_failed_load) {\n      console.log(\"Bokeh: BokehJS failed to load within specified timeout.\");\n      root._bokeh_failed_load = true;\n    } else if (force !== true) {\n      var cell = $(document.getElementById(\"1122\")).parents('.cell').data().cell;\n      cell.output_area.append_execute_result(NB_LOAD_WARNING)\n    }\n\n  }\n\n  if (root._bokeh_is_loading === 0) {\n    console.debug(\"Bokeh: BokehJS loaded, going straight to plotting\");\n    run_inline_js();\n  } else {\n    load_libs(css_urls, js_urls, function() {\n      console.debug(\"Bokeh: BokehJS plotting callback run at\", now());\n      run_inline_js();\n    });\n  }\n}(window));"
     },
     "metadata": {}
    }
   ],
   "source": [
    "import pandas as pd\n",
    "\n",
    "from bokeh.plotting import figure, show\n",
    "from bokeh.transform import factor_cmap, factor_mark\n",
    "from bokeh.models import Span\n",
    "\n",
    "from bokeh.io import push_notebook, show, output_notebook\n",
    "from bokeh.layouts import row, gridplot\n",
    "from bokeh.plotting import figure, show, output_file\n",
    "output_notebook()"
   ]
  },
  {
   "cell_type": "code",
   "execution_count": 2,
   "metadata": {},
   "outputs": [],
   "source": [
    "pathTrain = \"/home/hiwi/Dokumente/masterthesis/data/trained/\"\n",
    "pathEval = \"/home/hiwi/Dokumente/masterthesis/data/eval/\"\n",
    "dataTrain = pd.read_csv(pathTrain+\"02size_w2v_trainingLog_part3_12_01.csv\", sep=\";\")\n",
    "dataEval = pd.read_csv(pathEval+\"results_part3_02b_12_01.csv\", sep=\";\")"
   ]
  },
  {
   "cell_type": "code",
   "execution_count": 3,
   "metadata": {},
   "outputs": [
    {
     "output_type": "stream",
     "name": "stdout",
     "text": [
      "<class 'pandas.core.frame.DataFrame'>\nRangeIndex: 10 entries, 0 to 9\nData columns (total 16 columns):\n #   Column           Non-Null Count  Dtype  \n---  ------           --------------  -----  \n 0   id               10 non-null     int64  \n 1   reduction        10 non-null     object \n 2   rare             10 non-null     bool   \n 3   shuffle          10 non-null     bool   \n 4   ngrams           10 non-null     object \n 5   vectorSize       10 non-null     int64  \n 6   window           10 non-null     int64  \n 7   minCount         10 non-null     int64  \n 8   trainAlgorithm   10 non-null     object \n 9   methodSampl      10 non-null     object \n 10  percentage       10 non-null     float64\n 11  aggregation      10 non-null     object \n 12  cosistencyCheck  10 non-null     bool   \n 13  scoreType        10 non-null     object \n 14  countPairs       10 non-null     int64  \n 15  evalScore        10 non-null     float64\ndtypes: bool(3), float64(2), int64(5), object(6)\nmemory usage: 1.2+ KB\n"
     ]
    }
   ],
   "source": [
    "data = pd.concat([dataTrain, dataEval], axis=1, sort=False)\n",
    "data = data.loc[:,~data.columns.duplicated()]\n",
    "data.info()"
   ]
  },
  {
   "cell_type": "code",
   "execution_count": 4,
   "metadata": {},
   "outputs": [
    {
     "output_type": "execute_result",
     "data": {
      "text/plain": [
       "   id reduction  rare  shuffle    ngrams  vectorSize  window  minCount  \\\n",
       "0   1     lemma  True     True  training         500      10         5   \n",
       "1   2     lemma  True     True  training         500      10         5   \n",
       "2   3     lemma  True     True  training         500      10         5   \n",
       "3   4     lemma  True     True  training         500      10         5   \n",
       "4   5     lemma  True     True  training         500      10         5   \n",
       "5   6     lemma  True     True  training         500      10         5   \n",
       "6   7     lemma  True     True  training         500      10         5   \n",
       "7   8     lemma  True     True  training         500      10         5   \n",
       "8   9     lemma  True     True  training         500      10         5   \n",
       "9  10     lemma  True     True  training         500      10         5   \n",
       "\n",
       "  trainAlgorithm methodSampl  percentage       aggregation  cosistencyCheck  \\\n",
       "0       skipgram     softmax         0.1  majorityWeighted             True   \n",
       "1       skipgram     softmax         0.2  majorityWeighted             True   \n",
       "2       skipgram     softmax         0.3  majorityWeighted             True   \n",
       "3       skipgram     softmax         0.4  majorityWeighted             True   \n",
       "4       skipgram     softmax         0.5  majorityWeighted             True   \n",
       "5       skipgram     softmax         0.6  majorityWeighted             True   \n",
       "6       skipgram     softmax         0.7  majorityWeighted             True   \n",
       "7       skipgram     softmax         0.8  majorityWeighted             True   \n",
       "8       skipgram     softmax         0.9  majorityWeighted             True   \n",
       "9       skipgram     softmax         1.0  majorityWeighted             True   \n",
       "\n",
       "        scoreType  countPairs  evalScore  \n",
       "0  accuracy score         590   0.357627  \n",
       "1  accuracy score         590   0.522034  \n",
       "2  accuracy score         590   0.633898  \n",
       "3  accuracy score         590   0.689831  \n",
       "4  accuracy score         590   0.708475  \n",
       "5  accuracy score         590   0.732203  \n",
       "6  accuracy score         590   0.749153  \n",
       "7  accuracy score         590   0.757627  \n",
       "8  accuracy score         590   0.772881  \n",
       "9  accuracy score         590   0.774576  "
      ],
      "text/html": "<div>\n<style scoped>\n    .dataframe tbody tr th:only-of-type {\n        vertical-align: middle;\n    }\n\n    .dataframe tbody tr th {\n        vertical-align: top;\n    }\n\n    .dataframe thead th {\n        text-align: right;\n    }\n</style>\n<table border=\"1\" class=\"dataframe\">\n  <thead>\n    <tr style=\"text-align: right;\">\n      <th></th>\n      <th>id</th>\n      <th>reduction</th>\n      <th>rare</th>\n      <th>shuffle</th>\n      <th>ngrams</th>\n      <th>vectorSize</th>\n      <th>window</th>\n      <th>minCount</th>\n      <th>trainAlgorithm</th>\n      <th>methodSampl</th>\n      <th>percentage</th>\n      <th>aggregation</th>\n      <th>cosistencyCheck</th>\n      <th>scoreType</th>\n      <th>countPairs</th>\n      <th>evalScore</th>\n    </tr>\n  </thead>\n  <tbody>\n    <tr>\n      <th>0</th>\n      <td>1</td>\n      <td>lemma</td>\n      <td>True</td>\n      <td>True</td>\n      <td>training</td>\n      <td>500</td>\n      <td>10</td>\n      <td>5</td>\n      <td>skipgram</td>\n      <td>softmax</td>\n      <td>0.1</td>\n      <td>majorityWeighted</td>\n      <td>True</td>\n      <td>accuracy score</td>\n      <td>590</td>\n      <td>0.357627</td>\n    </tr>\n    <tr>\n      <th>1</th>\n      <td>2</td>\n      <td>lemma</td>\n      <td>True</td>\n      <td>True</td>\n      <td>training</td>\n      <td>500</td>\n      <td>10</td>\n      <td>5</td>\n      <td>skipgram</td>\n      <td>softmax</td>\n      <td>0.2</td>\n      <td>majorityWeighted</td>\n      <td>True</td>\n      <td>accuracy score</td>\n      <td>590</td>\n      <td>0.522034</td>\n    </tr>\n    <tr>\n      <th>2</th>\n      <td>3</td>\n      <td>lemma</td>\n      <td>True</td>\n      <td>True</td>\n      <td>training</td>\n      <td>500</td>\n      <td>10</td>\n      <td>5</td>\n      <td>skipgram</td>\n      <td>softmax</td>\n      <td>0.3</td>\n      <td>majorityWeighted</td>\n      <td>True</td>\n      <td>accuracy score</td>\n      <td>590</td>\n      <td>0.633898</td>\n    </tr>\n    <tr>\n      <th>3</th>\n      <td>4</td>\n      <td>lemma</td>\n      <td>True</td>\n      <td>True</td>\n      <td>training</td>\n      <td>500</td>\n      <td>10</td>\n      <td>5</td>\n      <td>skipgram</td>\n      <td>softmax</td>\n      <td>0.4</td>\n      <td>majorityWeighted</td>\n      <td>True</td>\n      <td>accuracy score</td>\n      <td>590</td>\n      <td>0.689831</td>\n    </tr>\n    <tr>\n      <th>4</th>\n      <td>5</td>\n      <td>lemma</td>\n      <td>True</td>\n      <td>True</td>\n      <td>training</td>\n      <td>500</td>\n      <td>10</td>\n      <td>5</td>\n      <td>skipgram</td>\n      <td>softmax</td>\n      <td>0.5</td>\n      <td>majorityWeighted</td>\n      <td>True</td>\n      <td>accuracy score</td>\n      <td>590</td>\n      <td>0.708475</td>\n    </tr>\n    <tr>\n      <th>5</th>\n      <td>6</td>\n      <td>lemma</td>\n      <td>True</td>\n      <td>True</td>\n      <td>training</td>\n      <td>500</td>\n      <td>10</td>\n      <td>5</td>\n      <td>skipgram</td>\n      <td>softmax</td>\n      <td>0.6</td>\n      <td>majorityWeighted</td>\n      <td>True</td>\n      <td>accuracy score</td>\n      <td>590</td>\n      <td>0.732203</td>\n    </tr>\n    <tr>\n      <th>6</th>\n      <td>7</td>\n      <td>lemma</td>\n      <td>True</td>\n      <td>True</td>\n      <td>training</td>\n      <td>500</td>\n      <td>10</td>\n      <td>5</td>\n      <td>skipgram</td>\n      <td>softmax</td>\n      <td>0.7</td>\n      <td>majorityWeighted</td>\n      <td>True</td>\n      <td>accuracy score</td>\n      <td>590</td>\n      <td>0.749153</td>\n    </tr>\n    <tr>\n      <th>7</th>\n      <td>8</td>\n      <td>lemma</td>\n      <td>True</td>\n      <td>True</td>\n      <td>training</td>\n      <td>500</td>\n      <td>10</td>\n      <td>5</td>\n      <td>skipgram</td>\n      <td>softmax</td>\n      <td>0.8</td>\n      <td>majorityWeighted</td>\n      <td>True</td>\n      <td>accuracy score</td>\n      <td>590</td>\n      <td>0.757627</td>\n    </tr>\n    <tr>\n      <th>8</th>\n      <td>9</td>\n      <td>lemma</td>\n      <td>True</td>\n      <td>True</td>\n      <td>training</td>\n      <td>500</td>\n      <td>10</td>\n      <td>5</td>\n      <td>skipgram</td>\n      <td>softmax</td>\n      <td>0.9</td>\n      <td>majorityWeighted</td>\n      <td>True</td>\n      <td>accuracy score</td>\n      <td>590</td>\n      <td>0.772881</td>\n    </tr>\n    <tr>\n      <th>9</th>\n      <td>10</td>\n      <td>lemma</td>\n      <td>True</td>\n      <td>True</td>\n      <td>training</td>\n      <td>500</td>\n      <td>10</td>\n      <td>5</td>\n      <td>skipgram</td>\n      <td>softmax</td>\n      <td>1.0</td>\n      <td>majorityWeighted</td>\n      <td>True</td>\n      <td>accuracy score</td>\n      <td>590</td>\n      <td>0.774576</td>\n    </tr>\n  </tbody>\n</table>\n</div>"
     },
     "metadata": {},
     "execution_count": 4
    }
   ],
   "source": [
    "data[:10]"
   ]
  },
  {
   "cell_type": "code",
   "execution_count": 32,
   "metadata": {},
   "outputs": [
    {
     "output_type": "execute_result",
     "data": {
      "text/plain": [
       "'\\nnewResults = pd.read_csv(pathEval+\"results_part3_02_11_30.csv\", sep=\";\")\\ndata[\"evalNew\"] = newResults[\"evalScore\"]\\n\\ndata[:1]\\n'"
      ]
     },
     "metadata": {},
     "execution_count": 32
    }
   ],
   "source": [
    "\"\"\"\n",
    "newResults = pd.read_csv(pathEval+\"results_part3_02_11_30.csv\", sep=\";\")\n",
    "data[\"evalNew\"] = newResults[\"evalScore\"]\n",
    "\n",
    "data[:1]\n",
    "\"\"\""
   ]
  },
  {
   "cell_type": "code",
   "execution_count": 7,
   "metadata": {},
   "outputs": [
    {
     "output_type": "display_data",
     "data": {
      "text/html": "\n\n\n\n\n\n  <div class=\"bk-root\" id=\"96b4a6a4-a981-4346-8e45-0848176fadde\" data-root-id=\"1123\"></div>\n"
     },
     "metadata": {}
    },
    {
     "output_type": "display_data",
     "data": {
      "application/javascript": "(function(root) {\n  function embed_document(root) {\n    \n  var docs_json = {\"f8ca492b-1754-447c-997d-ebbdb1c8919e\":{\"roots\":{\"references\":[{\"attributes\":{\"below\":[{\"id\":\"1134\"}],\"center\":[{\"id\":\"1137\"},{\"id\":\"1141\"}],\"left\":[{\"id\":\"1138\"}],\"renderers\":[{\"id\":\"1160\"},{\"id\":\"1162\"}],\"title\":{\"id\":\"1124\"},\"toolbar\":{\"id\":\"1149\"},\"x_range\":{\"id\":\"1126\"},\"x_scale\":{\"id\":\"1130\"},\"y_range\":{\"id\":\"1128\"},\"y_scale\":{\"id\":\"1132\"}},\"id\":\"1123\",\"subtype\":\"Figure\",\"type\":\"Plot\"},{\"attributes\":{\"line_color\":\"red\",\"line_dash\":[6],\"line_width\":1.5,\"location\":0.78},\"id\":\"1162\",\"type\":\"Span\"},{\"attributes\":{\"text\":\"Training Part 3: Evaluation results\"},\"id\":\"1124\",\"type\":\"Title\"},{\"attributes\":{},\"id\":\"1126\",\"type\":\"DataRange1d\"},{\"attributes\":{},\"id\":\"1135\",\"type\":\"BasicTicker\"},{\"attributes\":{},\"id\":\"1147\",\"type\":\"HelpTool\"},{\"attributes\":{},\"id\":\"1128\",\"type\":\"DataRange1d\"},{\"attributes\":{\"fill_alpha\":{\"value\":0.1},\"fill_color\":{\"value\":\"#1f77b4\"},\"line_alpha\":{\"value\":0.1},\"line_color\":{\"value\":\"#1f77b4\"},\"size\":{\"units\":\"screen\",\"value\":10},\"x\":{\"field\":\"percentage\"},\"y\":{\"field\":\"evalScore\"}},\"id\":\"1159\",\"type\":\"Scatter\"},{\"attributes\":{\"axis_label\":\"Percentage of data used\",\"formatter\":{\"id\":\"1164\"},\"ticker\":{\"id\":\"1135\"}},\"id\":\"1134\",\"type\":\"LinearAxis\"},{\"attributes\":{},\"id\":\"1132\",\"type\":\"LinearScale\"},{\"attributes\":{},\"id\":\"1166\",\"type\":\"BasicTickFormatter\"},{\"attributes\":{},\"id\":\"1130\",\"type\":\"LinearScale\"},{\"attributes\":{\"axis_label\":\"Eval score\",\"formatter\":{\"id\":\"1166\"},\"ticker\":{\"id\":\"1139\"}},\"id\":\"1138\",\"type\":\"LinearAxis\"},{\"attributes\":{\"axis\":{\"id\":\"1134\"},\"ticker\":null},\"id\":\"1137\",\"type\":\"Grid\"},{\"attributes\":{\"fill_alpha\":{\"value\":0.4},\"fill_color\":{\"value\":\"#1f77b4\"},\"line_color\":{\"value\":\"#1f77b4\"},\"size\":{\"units\":\"screen\",\"value\":10},\"x\":{\"field\":\"percentage\"},\"y\":{\"field\":\"evalScore\"}},\"id\":\"1158\",\"type\":\"Scatter\"},{\"attributes\":{\"axis\":{\"id\":\"1138\"},\"dimension\":1,\"ticker\":null},\"id\":\"1141\",\"type\":\"Grid\"},{\"attributes\":{},\"id\":\"1139\",\"type\":\"BasicTicker\"},{\"attributes\":{\"active_drag\":\"auto\",\"active_inspect\":\"auto\",\"active_multi\":null,\"active_scroll\":\"auto\",\"active_tap\":\"auto\",\"tools\":[{\"id\":\"1142\"},{\"id\":\"1143\"},{\"id\":\"1144\"},{\"id\":\"1145\"},{\"id\":\"1146\"},{\"id\":\"1147\"}]},\"id\":\"1149\",\"type\":\"Toolbar\"},{\"attributes\":{},\"id\":\"1143\",\"type\":\"WheelZoomTool\"},{\"attributes\":{\"source\":{\"id\":\"1156\"}},\"id\":\"1161\",\"type\":\"CDSView\"},{\"attributes\":{},\"id\":\"1168\",\"type\":\"UnionRenderers\"},{\"attributes\":{},\"id\":\"1142\",\"type\":\"PanTool\"},{\"attributes\":{\"data\":{\"aggregation\":[\"majorityWeighted\",\"majorityWeighted\",\"majorityWeighted\",\"majorityWeighted\",\"majorityWeighted\",\"majorityWeighted\",\"majorityWeighted\",\"majorityWeighted\",\"majorityWeighted\",\"majorityWeighted\"],\"cosistencyCheck\":[true,true,true,true,true,true,true,true,true,true],\"countPairs\":[590,590,590,590,590,590,590,590,590,590],\"evalScore\":{\"__ndarray__\":\"gEuv2lzj1j+W9RNvgLTgP6SFKhnlSOQ/q801bhcT5j8DO+Tf0qvmP7j0qs01buc/8J2mwA755z+NciQ6ez7oP6ZXba5xu+g/xRsgLVTJ6D8=\",\"dtype\":\"float64\",\"order\":\"little\",\"shape\":[10]},\"id\":[1,2,3,4,5,6,7,8,9,10],\"index\":[0,1,2,3,4,5,6,7,8,9],\"methodSampl\":[\"softmax\",\"softmax\",\"softmax\",\"softmax\",\"softmax\",\"softmax\",\"softmax\",\"softmax\",\"softmax\",\"softmax\"],\"minCount\":[5,5,5,5,5,5,5,5,5,5],\"ngrams\":[\"training\",\"training\",\"training\",\"training\",\"training\",\"training\",\"training\",\"training\",\"training\",\"training\"],\"percentage\":{\"__ndarray__\":\"mpmZmZmZuT+amZmZmZnJPzMzMzMzM9M/mpmZmZmZ2T8AAAAAAADgPzMzMzMzM+M/ZmZmZmZm5j+amZmZmZnpP83MzMzMzOw/AAAAAAAA8D8=\",\"dtype\":\"float64\",\"order\":\"little\",\"shape\":[10]},\"rare\":[true,true,true,true,true,true,true,true,true,true],\"reduction\":[\"lemma\",\"lemma\",\"lemma\",\"lemma\",\"lemma\",\"lemma\",\"lemma\",\"lemma\",\"lemma\",\"lemma\"],\"scoreType\":[\"accuracy score\",\"accuracy score\",\"accuracy score\",\"accuracy score\",\"accuracy score\",\"accuracy score\",\"accuracy score\",\"accuracy score\",\"accuracy score\",\"accuracy score\"],\"shuffle\":[true,true,true,true,true,true,true,true,true,true],\"trainAlgorithm\":[\"skipgram\",\"skipgram\",\"skipgram\",\"skipgram\",\"skipgram\",\"skipgram\",\"skipgram\",\"skipgram\",\"skipgram\",\"skipgram\"],\"vectorSize\":[500,500,500,500,500,500,500,500,500,500],\"window\":[10,10,10,10,10,10,10,10,10,10]},\"selected\":{\"id\":\"1169\"},\"selection_policy\":{\"id\":\"1168\"}},\"id\":\"1156\",\"type\":\"ColumnDataSource\"},{\"attributes\":{\"overlay\":{\"id\":\"1148\"}},\"id\":\"1144\",\"type\":\"BoxZoomTool\"},{\"attributes\":{},\"id\":\"1169\",\"type\":\"Selection\"},{\"attributes\":{},\"id\":\"1145\",\"type\":\"SaveTool\"},{\"attributes\":{\"data_source\":{\"id\":\"1156\"},\"glyph\":{\"id\":\"1158\"},\"hover_glyph\":null,\"muted_glyph\":null,\"nonselection_glyph\":{\"id\":\"1159\"},\"selection_glyph\":null,\"view\":{\"id\":\"1161\"}},\"id\":\"1160\",\"type\":\"GlyphRenderer\"},{\"attributes\":{},\"id\":\"1146\",\"type\":\"ResetTool\"},{\"attributes\":{},\"id\":\"1164\",\"type\":\"BasicTickFormatter\"},{\"attributes\":{\"bottom_units\":\"screen\",\"fill_alpha\":0.5,\"fill_color\":\"lightgrey\",\"left_units\":\"screen\",\"level\":\"overlay\",\"line_alpha\":1.0,\"line_color\":\"black\",\"line_dash\":[4,4],\"line_width\":2,\"right_units\":\"screen\",\"top_units\":\"screen\"},\"id\":\"1148\",\"type\":\"BoxAnnotation\"}],\"root_ids\":[\"1123\"]},\"title\":\"Bokeh Application\",\"version\":\"2.2.3\"}};\n  var render_items = [{\"docid\":\"f8ca492b-1754-447c-997d-ebbdb1c8919e\",\"root_ids\":[\"1123\"],\"roots\":{\"1123\":\"96b4a6a4-a981-4346-8e45-0848176fadde\"}}];\n  root.Bokeh.embed.embed_items_notebook(docs_json, render_items);\n\n  }\n  if (root.Bokeh !== undefined) {\n    embed_document(root);\n  } else {\n    var attempts = 0;\n    var timer = setInterval(function(root) {\n      if (root.Bokeh !== undefined) {\n        clearInterval(timer);\n        embed_document(root);\n      } else {\n        attempts++;\n        if (attempts > 100) {\n          clearInterval(timer);\n          console.log(\"Bokeh: ERROR: Unable to run BokehJS code because BokehJS library is missing\");\n        }\n      }\n    }, 10, root)\n  }\n})(window);",
      "application/vnd.bokehjs_exec.v0+json": ""
     },
     "metadata": {
      "application/vnd.bokehjs_exec.v0+json": {
       "id": "1123"
      }
     }
    }
   ],
   "source": [
    "# Influence of data quantity on eval score\n",
    "\n",
    "p = figure(title=\"Training Part 3: Evaluation results\")\n",
    "p.xaxis.axis_label = \"Percentage of data used\"\n",
    "p.yaxis.axis_label = \"Eval score\"\n",
    "\n",
    "p.scatter(\"percentage\", \"evalScore\", source=data, fill_alpha=0.4, size=10)\n",
    "#p.scatter(\"percentage\", \"evalNew\", source=data, fill_alpha=0.4, size=10, fill_color=\"orange\", line_color=\"orange\")\n",
    "\n",
    "hline = Span(location=0.78, dimension='width', line_color='red', line_width=1.5, line_dash='dashed')\n",
    "p.renderers.extend([hline])\n",
    "\n",
    "show(p)"
   ]
  },
  {
   "cell_type": "code",
   "execution_count": null,
   "metadata": {},
   "outputs": [],
   "source": []
  }
 ]
}