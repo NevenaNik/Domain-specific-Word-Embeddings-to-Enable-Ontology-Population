{
 "metadata": {
  "language_info": {
   "codemirror_mode": {
    "name": "ipython",
    "version": 3
   },
   "file_extension": ".py",
   "mimetype": "text/x-python",
   "name": "python",
   "nbconvert_exporter": "python",
   "pygments_lexer": "ipython3",
   "version": "3.8.5-final"
  },
  "orig_nbformat": 2,
  "kernelspec": {
   "name": "python38564bitvenveaefb649f0a843798b4e750392f4e826",
   "display_name": "Python 3.8.5 64-bit ('venv')"
  }
 },
 "nbformat": 4,
 "nbformat_minor": 2,
 "cells": [
  {
   "cell_type": "code",
   "execution_count": 138,
   "metadata": {},
   "outputs": [],
   "source": [
    "import re\n",
    "import os\n",
    "import glob\n",
    "import json\n",
    "from collections import Counter"
   ]
  },
  {
   "source": [
    "## Handling n-grams"
   ],
   "cell_type": "markdown",
   "metadata": {}
  },
  {
   "cell_type": "code",
   "execution_count": 139,
   "metadata": {},
   "outputs": [],
   "source": [
    "dictionary = {\n",
    "    \"antilock brake system\": \"antilock_brake_system\",\n",
    "    \"electronic control unit\": \"electronic_control_unit\",\n",
    "    \"Assist\": \"assist\"\n",
    "}\n",
    "\n",
    "text = \"\"\"\n",
    "Assist: It is an Antilock Brake System that assists the electronic control unit. antilock brake system\n",
    "\"\"\""
   ]
  },
  {
   "cell_type": "code",
   "execution_count": 142,
   "metadata": {},
   "outputs": [
    {
     "output_type": "stream",
     "name": "stdout",
     "text": [
      "\nassist: it is an antilock_brake_system that assists the electronic_control_unit. antilock_brake_system\n\n"
     ]
    }
   ],
   "source": [
    "text = text.lower()\n",
    "\n",
    "i = 0\n",
    "while(i < len(dictionary.keys())):\n",
    "    item = list(dictionary.keys())[i]\n",
    "    text = re.sub(item, dictionary[item], text)\n",
    "    i += 1\n",
    "\n",
    "print(text)"
   ]
  },
  {
   "source": [
    "## Handling rare words"
   ],
   "cell_type": "markdown",
   "metadata": {}
  },
  {
   "cell_type": "code",
   "execution_count": null,
   "metadata": {},
   "outputs": [],
   "source": [
    "text = [[\"antilock_brake_system\", \"is\", \"a\", \"new\", \"system\"],\n",
    "        [\"electonic_control_unit\", \"is\", \"a\", \"system\", \"too\"]]\n",
    "\n",
    "exceptions = [\"antilock_brake_system\", \"electonic_control_unit\"]"
   ]
  },
  {
   "cell_type": "code",
   "execution_count": null,
   "metadata": {},
   "outputs": [],
   "source": [
    "control = []\n",
    "for sentence in text:\n",
    "    for word in sentence:\n",
    "        control.append(word)\n",
    "counts = dict(Counter(control))\n",
    "\n",
    "rare = []\n",
    "for key in counts.keys():\n",
    "    if (counts[key] < 2) and (key not in exceptions):\n",
    "        rare.append(key)\n",
    "\n",
    "for sentence in text:\n",
    "    for i in range(0, len(sentence)):\n",
    "        if sentence[i] in rare:\n",
    "            sentence[i] = \"RARE\"\n",
    "print(text)"
   ]
  },
  {
   "source": [
    "## Create file: terminology_ngrams.json"
   ],
   "cell_type": "markdown",
   "metadata": {}
  },
  {
   "cell_type": "code",
   "execution_count": null,
   "metadata": {},
   "outputs": [],
   "source": [
    "# check if word contains min. one underscore\n",
    "def check_string(term):\n",
    "    if re.match(r\"\\b[a-z]+_[a-z_]*[a-]\\b\", term):\n",
    "        return True\n",
    "    else:\n",
    "        return False"
   ]
  },
  {
   "cell_type": "code",
   "execution_count": 7,
   "metadata": {},
   "outputs": [],
   "source": [
    "path_data = '/home/hiwi/Dokumente/masterthesis/archieve/ma_data/terminology/intrinsic_eval/'\n",
    "files = glob.glob(path_data + \"f*.json\")\n",
    "\n",
    "path = '/home/hiwi/Dokumente/masterthesis/archieve/ma/preprocessing/terminology/'\n",
    "name = 'terminology_ngrams.json'\n",
    "\n",
    "liste = []\n",
    "for i in range(0, len(files)):\n",
    "    try:\n",
    "        current_file = json.loads(open(files[i]).read())\n",
    "    except:\n",
    "        print(\"Cannot read file: \" + str(i))\n",
    "    for key in current_file.keys():\n",
    "        if check_string(key):\n",
    "            liste.append(key)\n",
    "        for item in current_file[key].keys():\n",
    "            if check_string(item):\n",
    "                liste.append(item)\n",
    "liste = list(set(liste))\n",
    "\n",
    "dictionary = {}\n",
    "for word in liste:\n",
    "    key = re.sub(\"_\", \" \", word)\n",
    "    dictionary[key] = word\n",
    "\n",
    "# Save data\n",
    "with open(path+name, \"w\") as fp:\n",
    "    json.dump(dictionary, fp, sort_keys=True, indent=4)"
   ]
  },
  {
   "source": [
    "### Notes"
   ],
   "cell_type": "markdown",
   "metadata": {}
  },
  {
   "cell_type": "code",
   "execution_count": 22,
   "metadata": {},
   "outputs": [
    {
     "output_type": "execute_result",
     "data": {
      "text/plain": [
       "['antilock_brake_system', 'electronic_control_unit', 'Assist']"
      ]
     },
     "metadata": {},
     "execution_count": 22
    }
   ],
   "source": [
    "from re import search\n",
    "\n",
    "keywords = [\"antilock brake system\", \"electronic control unit\", \"Assist\"]\n",
    "\n",
    "def parse_text(message, keywords):\n",
    "    newList = []\n",
    "    for keyword in keywords:\n",
    "        if search(r'\\b{}\\b'.format(keyword), message):\n",
    "            keyword = \"_\".join(keyword.split())\n",
    "            newList.append(keyword)\n",
    "        \n",
    "    return newList\n",
    "\n",
    "parse_text(text, keywords)"
   ]
  }
 ]
}