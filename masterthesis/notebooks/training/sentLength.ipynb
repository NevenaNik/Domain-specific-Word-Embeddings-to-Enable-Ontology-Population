{
 "metadata": {
  "language_info": {
   "codemirror_mode": {
    "name": "ipython",
    "version": 3
   },
   "file_extension": ".py",
   "mimetype": "text/x-python",
   "name": "python",
   "nbconvert_exporter": "python",
   "pygments_lexer": "ipython3",
   "version": "3.8.5-final"
  },
  "orig_nbformat": 2,
  "kernelspec": {
   "name": "python38564bitvenveaefb649f0a843798b4e750392f4e826",
   "display_name": "Python 3.8.5 64-bit ('venv')"
  }
 },
 "nbformat": 4,
 "nbformat_minor": 2,
 "cells": [
  {
   "cell_type": "code",
   "execution_count": 21,
   "metadata": {},
   "outputs": [],
   "source": [
    "from gensim.models import Word2Vec\n",
    "import random"
   ]
  },
  {
   "cell_type": "code",
   "execution_count": 2,
   "metadata": {},
   "outputs": [
    {
     "output_type": "execute_result",
     "data": {
      "text/plain": [
       "['RARE cause two different phenomenon RARE similar result RARE RARE RARE deformation',\n",
       " 'bosch system sensor RARE RARE trigger unit',\n",
       " 'shift process engine RARE RARE RARE RARE transmission shift']"
      ]
     },
     "metadata": {},
     "execution_count": 2
    }
   ],
   "source": [
    "pathCorp = \"/home/hiwi/Dokumente/masterthesis/data/corpora/corpus_shuffledFalse_percent100.txt\"\n",
    "corpus = open(pathCorp, \"r\").readlines()\n",
    "corpus = list(map(str.strip, corpus))\n",
    "corpus[:3]"
   ]
  },
  {
   "source": [
    "# Training"
   ],
   "cell_type": "markdown",
   "metadata": {}
  },
  {
   "cell_type": "code",
   "execution_count": 38,
   "metadata": {},
   "outputs": [
    {
     "output_type": "stream",
     "name": "stdout",
     "text": [
      "35319\n",
      "RARE\n",
      "17660\n",
      "RARE\n",
      "3532\n",
      "RARE\n",
      "1766\n",
      "RARE\n",
      "707\n",
      "RARE\n",
      "354\n",
      "RARE\n",
      "295\n",
      "RARE\n",
      "253\n",
      "RARE\n",
      "177\n",
      "RARE\n",
      "118\n",
      "RARE\n",
      "89\n",
      "RARE\n"
     ]
    }
   ],
   "source": [
    "pathCorp = \"/home/hiwi/Dokumente/masterthesis/data/corpora/corpus_shuffledFalse_percent100.txt\"\n",
    "pathDest = \"/home/hiwi/Dokumente/masterthesis/data/trained/\"\n",
    "sentLen = [5, 10, 50, 100, 250, 500, 600, 700, 1000, 1500, 2000]\n",
    "\n",
    "for length in sentLen:\n",
    "    \n",
    "    corpus = open(pathCorp, \"r\").readlines()\n",
    "    corpus = list(map(str.strip, corpus))\n",
    "    \n",
    "    corpusTrain = []\n",
    "    i = 0\n",
    "\n",
    "    while (i < len(corpus)):\n",
    "        if (i + length) < len(corpus):\n",
    "            sent = \" \".join(corpus[i:(i+length)])\n",
    "            sent = sent.split()\n",
    "            corpusTrain.append(sent)\n",
    "            i += length\n",
    "        else:\n",
    "            sent = \" \".join(corpus[i:(len(corpus)-1)])\n",
    "            sent = sent.split()\n",
    "            corpusTrain.append(sent)\n",
    "            i = len(corpus)\n",
    "    print(len(corpusTrain))\n",
    "    print(corpusTrain[0][0])\n",
    "\n",
    "    model = Word2Vec(corpusTrain, size=500, window=10, min_count=5, sg=1, hs=1)\n",
    "    file_name = f\"03sentence{length}_w2v_shuffledFalse_ngramsTraining_vs500_win10_mc5_sg1_hs1.bin\"\n",
    "    model.save(pathDest + file_name)\n",
    "\n",
    "    random.seed(42)\n",
    "    random.shuffle(corpusTrain)\n",
    "    model = Word2Vec(corpusTrain, size=500, window=10, min_count=5, sg=1, hs=1)\n",
    "    file_name = f\"03sentence{length}_w2v_shuffledTrue_ngramsTraining_vs500_win10_mc5_sg1_hs1.bin\"\n",
    "    model.save(pathDest + file_name)"
   ]
  },
  {
   "cell_type": "code",
   "execution_count": 41,
   "metadata": {},
   "outputs": [
    {
     "output_type": "stream",
     "name": "stdout",
     "text": [
      "176591\n176591\n"
     ]
    }
   ],
   "source": [
    "# Sentence length = 1\n",
    "corpus = open(pathCorp, \"r\").readlines()\n",
    "corpus = list(map(str.strip, corpus))\n",
    "\n",
    "corpusTrain = []\n",
    "for sent in corpus:\n",
    "    sent = sent.split()\n",
    "    corpusTrain.append(sent)\n",
    "\n",
    "length = 1\n",
    "\n",
    "print(len(corpusTrain))\n",
    "print(corpusTrain[0][0])\n",
    "\n",
    "model = Word2Vec(corpusTrain, size=500, window=10, min_count=5, sg=1, hs=1)\n",
    "file_name = f\"03sentence{length}_w2v_shuffledFalse_ngramsTraining_vs500_win10_mc5_sg1_hs1.bin\"\n",
    "model.save(pathDest + file_name)\n",
    "\n",
    "random.seed(42)\n",
    "random.shuffle(corpusTrain)\n",
    "model = Word2Vec(corpusTrain, size=500, window=10, min_count=5, sg=1, hs=1)\n",
    "file_name = f\"03sentence{length}_w2v_shuffledTrue_ngramsTraining_vs500_win10_mc5_sg1_hs1.bin\"\n",
    "model.save(pathDest + file_name)"
   ]
  },
  {
   "cell_type": "code",
   "execution_count": 42,
   "metadata": {},
   "outputs": [
    {
     "output_type": "stream",
     "name": "stdout",
     "text": [
      "1\n1\n"
     ]
    }
   ],
   "source": [
    "# Sentence length = len(corpus)\n",
    "corpus = open(pathCorp, \"r\").readlines()\n",
    "corpus = list(map(str.strip, corpus))\n",
    "\n",
    "corpusTrain = \" \".join(corpus)\n",
    "corpusTrain = corpusTrain.split()\n",
    "corpusTrain = [corpusTrain]\n",
    "\n",
    "length = \"Complete\"\n",
    "\n",
    "print(len(corpusTrain))\n",
    "print(corpusTrain[0][0]))\n",
    "\n",
    "model = Word2Vec(corpusTrain, size=500, window=10, min_count=5, sg=1, hs=1)\n",
    "file_name = f\"03sentence{length}_w2v_shuffledFalse_ngramsTraining_vs500_win10_mc5_sg1_hs1.bin\"\n",
    "model.save(pathDest + file_name)\n",
    "\n",
    "random.seed(42)\n",
    "random.shuffle(corpusTrain)\n",
    "model = Word2Vec(corpusTrain, size=500, window=10, min_count=5, sg=1, hs=1)\n",
    "file_name = f\"03sentence{length}_w2v_shuffledTrue_ngramsTraining_vs500_win10_mc5_sg1_hs1.bin\"\n",
    "model.save(pathDest + file_name)"
   ]
  },
  {
   "cell_type": "code",
   "execution_count": null,
   "metadata": {},
   "outputs": [],
   "source": []
  }
 ]
}